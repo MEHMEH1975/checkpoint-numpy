{
 "cells": [
  {
   "cell_type": "code",
   "execution_count": 10,
   "id": "d6fdc536",
   "metadata": {},
   "outputs": [
    {
     "name": "stdout",
     "output_type": "stream",
     "text": [
      "[1, 2, 3]\n"
     ]
    }
   ],
   "source": [
    "#exercice1\n",
    "import numpy as np\n",
    "array=np.array([1,2,3])\n",
    "array_tolist=array.tolist()\n",
    "print(array_tolist)"
   ]
  },
  {
   "cell_type": "code",
   "execution_count": 16,
   "id": "dfc229f1",
   "metadata": {},
   "outputs": [
    {
     "data": {
      "text/plain": [
       "15"
      ]
     },
     "execution_count": 16,
     "metadata": {},
     "output_type": "execute_result"
    }
   ],
   "source": [
    "#ex2\n",
    "array=np.array([[1,2,3],[4,5,6],[7,8,9]])\n",
    "\n",
    "s=0\n",
    "s=s+array[0][0]+array[1][1]+array[2][2]\n",
    "s                \n",
    "#second method \n",
    "#np.trace(array)"
   ]
  },
  {
   "cell_type": "code",
   "execution_count": 39,
   "id": "18b623dc",
   "metadata": {},
   "outputs": [
    {
     "name": "stdout",
     "output_type": "stream",
     "text": [
      "[[5 8 9 3]\n",
      " [7 7 2 4]]\n",
      "donner un entier5\n",
      "[8 9 7 7]\n"
     ]
    }
   ],
   "source": [
    "#exercice3\n",
    "\n",
    "array=np.random.randint(2, 10, size=(2,4))\n",
    "print(array)\n",
    "x=int(input(\"donner un entier\"))\n",
    "print(array[array>x])\n",
    "\n",
    "    \n",
    "    \n"
   ]
  },
  {
   "cell_type": "code",
   "execution_count": 58,
   "id": "c8aca371",
   "metadata": {},
   "outputs": [
    {
     "name": "stdout",
     "output_type": "stream",
     "text": [
      "[4, 6]\n"
     ]
    }
   ],
   "source": [
    "#exercic4\n",
    "A=[1,2]\n",
    "B=[3,4]\n",
    "d=list()\n",
    "#C=np.add(A,B)\n",
    "#print(C)\n",
    "#C=A+B\n",
    "for i in range(2):\n",
    "    d.append(A[i]+B[i])\n",
    "   \n",
    "print(d)\n",
    "\n"
   ]
  },
  {
   "cell_type": "code",
   "execution_count": 68,
   "id": "b8be3cc9",
   "metadata": {},
   "outputs": [
    {
     "data": {
      "text/plain": [
       "3.0"
      ]
     },
     "execution_count": 68,
     "metadata": {},
     "output_type": "execute_result"
    }
   ],
   "source": [
    "#exercice5\n",
    "a=np.array([1,3,5])\n",
    "np.mean(a,axis=0)\n",
    "\n"
   ]
  },
  {
   "cell_type": "code",
   "execution_count": null,
   "id": "60a7ff65",
   "metadata": {},
   "outputs": [],
   "source": []
  }
 ],
 "metadata": {
  "kernelspec": {
   "display_name": "Python 3 (ipykernel)",
   "language": "python",
   "name": "python3"
  },
  "language_info": {
   "codemirror_mode": {
    "name": "ipython",
    "version": 3
   },
   "file_extension": ".py",
   "mimetype": "text/x-python",
   "name": "python",
   "nbconvert_exporter": "python",
   "pygments_lexer": "ipython3",
   "version": "3.9.12"
  }
 },
 "nbformat": 4,
 "nbformat_minor": 5
}
